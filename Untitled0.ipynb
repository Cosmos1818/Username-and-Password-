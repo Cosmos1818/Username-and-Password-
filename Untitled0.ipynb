{
  "nbformat": 4,
  "nbformat_minor": 0,
  "metadata": {
    "colab": {
      "name": "Untitled0.ipynb",
      "provenance": []
    },
    "kernelspec": {
      "name": "python3",
      "display_name": "Python 3"
    },
    "language_info": {
      "name": "python"
    }
  },
  "cells": [
    {
      "cell_type": "code",
      "execution_count": null,
      "metadata": {
        "id": "SpFxnFwPi9Rt"
      },
      "outputs": [],
      "source": [
        "username = \"Cosmos\"\n",
        "password = \"4321\"\n",
        "\n",
        "print(\"Please enter your username\")\n",
        "\n",
        "uname = input()\n",
        "\n",
        "print(\"Please enter your password\")\n",
        "\n",
        "pwd = input()\n",
        "\n",
        "\n",
        "if  pwd == password and uname  == username:\n",
        "    print(\"Welcome\")\n",
        "else:\n",
        "    print(\"try again\")"
      ]
    }
  ]
}